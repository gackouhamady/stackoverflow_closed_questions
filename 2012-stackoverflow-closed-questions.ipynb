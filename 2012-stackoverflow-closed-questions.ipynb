{
 "cells": [
  {
   "cell_type": "code",
   "execution_count": 1,
   "id": "a0a3bab5",
   "metadata": {
    "_cell_guid": "b1076dfc-b9ad-4769-8c92-a6c4dae69d19",
    "_uuid": "8f2839f25d086af736a60e9eeb907d3b93b6e0e5",
    "execution": {
     "iopub.execute_input": "2025-09-19T13:51:21.196980Z",
     "iopub.status.busy": "2025-09-19T13:51:21.196227Z",
     "iopub.status.idle": "2025-09-19T13:53:14.882952Z",
     "shell.execute_reply": "2025-09-19T13:53:14.881921Z"
    },
    "papermill": {
     "duration": 113.691572,
     "end_time": "2025-09-19T13:53:14.884209",
     "exception": false,
     "start_time": "2025-09-19T13:51:21.192637",
     "status": "completed"
    },
    "tags": []
   },
   "outputs": [
    {
     "name": "stderr",
     "output_type": "stream",
     "text": [
      "/usr/local/lib/python3.11/dist-packages/sklearn/linear_model/_stochastic_gradient.py:702: ConvergenceWarning: Maximum number of iteration reached before convergence. Consider increasing max_iter to improve the fit.\n",
      "  warnings.warn(\n"
     ]
    },
    {
     "name": "stdout",
     "output_type": "stream",
     "text": [
      "submission.csv written (fast prototype).\n"
     ]
    }
   ],
   "source": [
    "# Fast prototype: ~ tiny sample + hashing + SGD (probabilities)\n",
    "import pandas as pd\n",
    "import numpy as np\n",
    "from sklearn.feature_extraction.text import HashingVectorizer\n",
    "from sklearn.linear_model import SGDClassifier\n",
    "\n",
    "# ---- 1) Load (adjust paths if needed) ----\n",
    "train = pd.read_csv(\"/kaggle/input/predict-closed-questions-on-stack-overflow/train.csv\")\n",
    "test  = pd.read_csv(\"/kaggle/input/predict-closed-questions-on-stack-overflow/public_leaderboard.csv\")\n",
    "\n",
    "# ---- 2) Quick stratified sample (keeps all classes) ----\n",
    "classes = [\"not a real question\",\"not constructive\",\"off topic\",\"open\",\"too localized\"]\n",
    "per_class = 4000  # reduce if you need even faster (e.g., 2000)\n",
    "parts = []\n",
    "for c in classes:\n",
    "    parts.append(train[train[\"OpenStatus\"] == c].sample(\n",
    "        n=min(per_class, (train[\"OpenStatus\"] == c).sum()),\n",
    "        random_state=42\n",
    "    ))\n",
    "train_small = pd.concat(parts, axis=0, ignore_index=True)\n",
    "\n",
    "# ---- 3) Text fields ----\n",
    "Xtr_text = (train_small[\"Title\"].fillna(\"\") + \" \" + train_small[\"BodyMarkdown\"].fillna(\"\"))\n",
    "Xte_text = (test[\"Title\"].fillna(\"\") + \" \" + test[\"BodyMarkdown\"].fillna(\"\"))\n",
    "\n",
    "# ---- 4) Very fast features: HashingVectorizer (no fit) ----\n",
    "hv = HashingVectorizer(n_features=2**18, ngram_range=(1,2), alternate_sign=False)  # ~262k dims, fast\n",
    "Xtr = hv.transform(Xtr_text)\n",
    "Xte = hv.transform(Xte_text)\n",
    "\n",
    "# ---- 5) Fast linear model with probabilities ----\n",
    "clf = SGDClassifier(loss=\"log_loss\", max_iter=5, tol=1e-3, n_jobs=-1, random_state=42)\n",
    "clf.fit(Xtr, train_small[\"OpenStatus\"])\n",
    "\n",
    "# ---- 6) Probabilities (ensure correct class order) ----\n",
    "def softmax(z):\n",
    "    z = z - z.max(axis=1, keepdims=True)\n",
    "    ez = np.exp(z)\n",
    "    return ez / ez.sum(axis=1, keepdims=True)\n",
    "\n",
    "if hasattr(clf, \"predict_proba\"):\n",
    "    proba_all = clf.predict_proba(Xte)\n",
    "else:\n",
    "    # Fallback if sklearn build doesn’t expose predict_proba for SGD\n",
    "    scores = clf.decision_function(Xte)\n",
    "    if scores.ndim == 1:  # rare binary-shape case, expand to 2 classes then map\n",
    "        scores = np.column_stack([-scores, scores])\n",
    "    proba_all = softmax(scores)\n",
    "\n",
    "# Map columns to the required order\n",
    "# clf.classes_ may be a subset ordering; reindex to expected classes\n",
    "proba_df = pd.DataFrame(proba_all, columns=clf.classes_)\n",
    "for c in classes:\n",
    "    if c not in proba_df.columns:\n",
    "        proba_df[c] = 0.0  # if a class never appeared in the sample\n",
    "sub = proba_df.reindex(columns=classes, fill_value=0)\n",
    "\n",
    "# ---- 7) Optional id column ----\n",
    "if \"id\" in test.columns:\n",
    "    sub.insert(0, \"id\", test[\"id\"].values)\n",
    "\n",
    "# ---- 8) Save submission ----\n",
    "sub.to_csv(\"submission.csv\", index=False)\n",
    "print(\"submission.csv written (fast prototype).\")\n"
   ]
  }
 ],
 "metadata": {
  "kaggle": {
   "accelerator": "gpu",
   "dataSources": [
    {
     "databundleVersionId": 46668,
     "sourceId": 3043,
     "sourceType": "competition"
    }
   ],
   "dockerImageVersionId": 31089,
   "isGpuEnabled": true,
   "isInternetEnabled": true,
   "language": "python",
   "sourceType": "notebook"
  },
  "kernelspec": {
   "display_name": "Python 3",
   "language": "python",
   "name": "python3"
  },
  "language_info": {
   "codemirror_mode": {
    "name": "ipython",
    "version": 3
   },
   "file_extension": ".py",
   "mimetype": "text/x-python",
   "name": "python",
   "nbconvert_exporter": "python",
   "pygments_lexer": "ipython3",
   "version": "3.11.13"
  },
  "papermill": {
   "default_parameters": {},
   "duration": 120.2248,
   "end_time": "2025-09-19T13:53:16.608749",
   "environment_variables": {},
   "exception": null,
   "input_path": "__notebook__.ipynb",
   "output_path": "__notebook__.ipynb",
   "parameters": {},
   "start_time": "2025-09-19T13:51:16.383949",
   "version": "2.6.0"
  }
 },
 "nbformat": 4,
 "nbformat_minor": 5
}
